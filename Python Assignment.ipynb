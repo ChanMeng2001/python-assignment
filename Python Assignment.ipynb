{
 "cells": [
  {
   "cell_type": "markdown",
   "id": "297004e8",
   "metadata": {},
   "source": [
    "# My Jupyter Notebook on IBM Watson Studio"
   ]
  },
  {
   "cell_type": "markdown",
   "id": "df25fa82",
   "metadata": {},
   "source": [
    "**Ong Chan Meng**"
   ]
  },
  {
   "cell_type": "markdown",
   "id": "2e2faaf7",
   "metadata": {},
   "source": [
    "100% human"
   ]
  },
  {
   "cell_type": "markdown",
   "id": "1b5e60af",
   "metadata": {},
   "source": [
    "*My desire occupation is a data scientist. I'm curious why everything happened and the consequences. I can found this from the data*"
   ]
  },
  {
   "cell_type": "markdown",
   "id": "cd5e3eed",
   "metadata": {},
   "source": [
    "### Below is a simple mathematic calculation"
   ]
  },
  {
   "cell_type": "code",
   "execution_count": 1,
   "id": "9a6bba16",
   "metadata": {},
   "outputs": [
    {
     "name": "stdout",
     "output_type": "stream",
     "text": [
      "2\n"
     ]
    }
   ],
   "source": [
    "print(1+1)"
   ]
  },
  {
   "cell_type": "markdown",
   "id": "12e00b37",
   "metadata": {},
   "source": [
    "---\n",
    "* unordered list\n",
    "[This is a hyperlink](https://www.google.com/)\n",
    "|rows|columns|\n",
    "|-|-|\n",
    "| cell | cell |\n",
    "|hi|hello|"
   ]
  },
  {
   "cell_type": "code",
   "execution_count": null,
   "id": "50f26169",
   "metadata": {},
   "outputs": [],
   "source": []
  }
 ],
 "metadata": {
  "kernelspec": {
   "display_name": "Python 3 (ipykernel)",
   "language": "python",
   "name": "python3"
  },
  "language_info": {
   "codemirror_mode": {
    "name": "ipython",
    "version": 3
   },
   "file_extension": ".py",
   "mimetype": "text/x-python",
   "name": "python",
   "nbconvert_exporter": "python",
   "pygments_lexer": "ipython3",
   "version": "3.9.13"
  }
 },
 "nbformat": 4,
 "nbformat_minor": 5
}
